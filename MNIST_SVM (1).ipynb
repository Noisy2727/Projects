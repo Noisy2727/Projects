{
 "cells": [
  {
   "cell_type": "code",
   "execution_count": 99,
   "id": "cd65142f",
   "metadata": {},
   "outputs": [],
   "source": [
    "import pandas as pd\n",
    "import numpy as np\n",
    "from sklearn.model_selection import train_test_split\n",
    "from sklearn.preprocessing import StandardScaler\n",
    "from sklearn.svm import SVC\n",
    "from sklearn.pipeline import Pipeline\n",
    "from sklearn.model_selection import GridSearchCV\n",
    "from sklearn.metrics import confusion_matrix, accuracy_score, auc, f1_score, roc_curve, classification_report\n",
    "from keras.datasets import mnist\n",
    "import os"
   ]
  },
  {
   "cell_type": "code",
   "execution_count": 81,
   "id": "18efc85b",
   "metadata": {},
   "outputs": [],
   "source": [
    "TRAIN_RATIO = 0.6\n",
    "VALIDATION_RATIO = 0.2\n",
    "TEST_RATIO = 0.2\n",
    "\n",
    "(x_train, y_train), (x_test, y_test) = mnist.load_data()\n",
    "\n",
    "X = np.concatenate([x_train, x_test])\n",
    "y = np.concatenate([y_train, y_test])\n",
    "\n",
    "X_train, X_val, y_train, y_val = train_test_split(X, y, test_size=(1-TRAIN_RATIO))\n",
    "X_val, X_test, y_val, y_test = train_test_split(X_val, y_val, test_size=((TEST_RATIO/(VALIDATION_RATIO+TEST_RATIO))))"
   ]
  },
  {
   "cell_type": "code",
   "execution_count": 82,
   "id": "7c2710b3",
   "metadata": {},
   "outputs": [],
   "source": [
    "#minimize the data by 1/16\n",
    "\n",
    "X_train = np.reshape(X_train, (-1, 784)).astype('float32')\n",
    "X_test = np.reshape(X_test, (-1, 784)).astype('float32')\n",
    "X_val = np.reshape(X_val, (-1, 784)).astype('float32')\n",
    "\n",
    "X_train = pd.DataFrame(X_train)\n",
    "y_train = pd.DataFrame(y_train)\n",
    "X_test = pd.DataFrame(X_test)\n",
    "y_test = pd.DataFrame(y_test)\n",
    "X_val = pd.DataFrame(X_val)\n",
    "y_val = pd.DataFrame(y_val)\n",
    "\n",
    "X_train = X_train.sample(frac = 1/16)\n",
    "y_train = y_train.sample(frac = 1/16)\n",
    "X_test = X_test.sample(frac = 1/16)\n",
    "y_test = y_test.sample(frac = 1/16)\n",
    "X_val = X_val.sample(frac = 1/16)\n",
    "y_val = y_val.sample(frac = 1/16)"
   ]
  },
  {
   "cell_type": "code",
   "execution_count": 83,
   "id": "35913911",
   "metadata": {},
   "outputs": [
    {
     "name": "stdout",
     "output_type": "stream",
     "text": [
      "1    293\n",
      "9    291\n",
      "6    280\n",
      "7    279\n",
      "5    264\n",
      "3    263\n",
      "4    243\n",
      "2    242\n",
      "8    236\n",
      "0    234\n",
      "dtype: int64\n"
     ]
    }
   ],
   "source": [
    "#check for bias\n",
    "print(y_train.value_counts())"
   ]
  },
  {
   "cell_type": "code",
   "execution_count": 84,
   "id": "9240d8b6",
   "metadata": {},
   "outputs": [],
   "source": [
    "#set up the Pipeline object with StandardScaler as transformer and SVC as an estimator\n",
    "steps = [('scaler', StandardScaler()), ('SVM', SVC(kernel='poly'))]\n",
    "#define Pipeline object\n",
    "pipeline = Pipeline(steps)\n",
    "\n",
    "#use the GridSearchCV method with 5 folds cross-validation\n",
    "parameters = {'SVM__C':[0.001, 0.1, 100, 10e5], 'SVM__gamma':[10,1,0.1,0.01]}\n",
    "grid = GridSearchCV(pipeline, param_grid=parameters, cv=5)"
   ]
  },
  {
   "cell_type": "code",
   "execution_count": 85,
   "id": "1d0ca4b9",
   "metadata": {},
   "outputs": [
    {
     "data": {
      "text/plain": [
       "GridSearchCV(cv=5,\n",
       "             estimator=Pipeline(steps=[('scaler', StandardScaler()),\n",
       "                                       ('SVM', SVC(kernel='poly'))]),\n",
       "             param_grid={'SVM__C': [0.001, 0.1, 100, 1000000.0],\n",
       "                         'SVM__gamma': [10, 1, 0.1, 0.01]})"
      ]
     },
     "execution_count": 85,
     "metadata": {},
     "output_type": "execute_result"
    }
   ],
   "source": [
    "grid.fit(X_train, y_train.values.ravel())"
   ]
  },
  {
   "cell_type": "code",
   "execution_count": 86,
   "id": "33f60ea1",
   "metadata": {},
   "outputs": [
    {
     "name": "stdout",
     "output_type": "stream",
     "text": [
      "score = 0.12\n",
      "best parameters from train data:  {'SVM__C': 0.001, 'SVM__gamma': 0.01}\n"
     ]
    }
   ],
   "source": [
    "y_pred = grid.predict(X_test)\n",
    "\n",
    "print(\"score = %3.2f\" %(grid.score(X_test, y_test)))\n",
    "print(\"best parameters from train data: \", grid.best_params_)"
   ]
  },
  {
   "cell_type": "code",
   "execution_count": 87,
   "id": "39c6a7ff",
   "metadata": {},
   "outputs": [
    {
     "name": "stdout",
     "output_type": "stream",
     "text": [
      "confusion matrix: \n",
      "  [[ 3 54  0  1  1  0  2  1  1 20]\n",
      " [ 1 77  0  0  1  0  2  2  1 19]\n",
      " [ 3 74  2  0  0  1  3  2  2 20]\n",
      " [ 1 61  2  0  0  2  1  3  1 19]\n",
      " [ 1 58  1  1  0  2  2  0  2 11]\n",
      " [ 3 57  1  0  0  0  1  0  2 19]\n",
      " [ 0 61  0  0  0  1  1  2  2 19]\n",
      " [ 2 54  1  0  2  0  2  2  0 14]\n",
      " [ 2 58  0  0  0  0  1  0  1 20]\n",
      " [ 2 66  1  0  0  0  1  1  0 15]]\n",
      "accuracy =  0.11542857142857142\n",
      "f1 =  0.05404809198750919\n"
     ]
    }
   ],
   "source": [
    "#performance measures\n",
    "print(\"confusion matrix: \\n \", confusion_matrix(y_test, y_pred))\n",
    "\n",
    "accuracy = accuracy_score(y_test, y_pred)\n",
    "f1 = f1_score(y_test, y_pred, average='weighted')\n",
    "\n",
    "print(\"accuracy = \", accuracy)\n",
    "print(\"f1 = \", f1)"
   ]
  },
  {
   "cell_type": "code",
   "execution_count": 89,
   "id": "a8bed6e2",
   "metadata": {},
   "outputs": [
    {
     "data": {
      "text/plain": [
       "GridSearchCV(cv=5,\n",
       "             estimator=Pipeline(steps=[('scaler', StandardScaler()),\n",
       "                                       ('SVM', SVC(kernel='poly'))]),\n",
       "             param_grid={'SVM__C': [0.001], 'SVM__gamma': [0.01]})"
      ]
     },
     "execution_count": 89,
     "metadata": {},
     "output_type": "execute_result"
    }
   ],
   "source": [
    "steps1 = [('scaler', StandardScaler()), ('SVM', SVC(kernel='poly'))]\n",
    "pipeline1 = Pipeline(steps1)\n",
    "\n",
    "parameters1 = {'SVM__C':[grid.best_params_['SVM__C']], 'SVM__gamma':[grid.best_params_['SVM__gamma']]} \n",
    "grid1 = GridSearchCV(pipeline1, param_grid=parameters1, cv=5)\n",
    "grid1.fit(X_val, y_val.values.ravel())\n",
    "\n"
   ]
  },
  {
   "cell_type": "code",
   "execution_count": 90,
   "id": "6e6438ce",
   "metadata": {},
   "outputs": [
    {
     "name": "stdout",
     "output_type": "stream",
     "text": [
      "score on the test data set= 0.12\n",
      "best parameters from train data:  {'SVM__C': 0.001, 'SVM__gamma': 0.01}\n"
     ]
    }
   ],
   "source": [
    "y_pred2 = grid1.predict(X_test)\n",
    "\n",
    "print(\"score on the test data set= %3.2f\" %(grid1.score(X_test, y_test)))\n",
    "print(\"best parameters from train data: \", grid1.best_params_ )"
   ]
  },
  {
   "cell_type": "code",
   "execution_count": 91,
   "id": "42d6b236",
   "metadata": {},
   "outputs": [
    {
     "name": "stdout",
     "output_type": "stream",
     "text": [
      "confusion matrix: \n",
      "  [[ 1 75  1  0  1  1  2  1  1  0]\n",
      " [ 0 99  0  1  0  0  2  0  1  0]\n",
      " [ 0 99  1  0  3  0  2  2  0  0]\n",
      " [ 0 83  0  1  1  0  2  1  2  0]\n",
      " [ 1 75  0  1  0  0  1  0  0  0]\n",
      " [ 0 78  0  1  2  0  1  0  1  0]\n",
      " [ 1 83  0  1  1  0  0  0  0  0]\n",
      " [ 1 72  2  0  1  0  0  0  0  1]\n",
      " [ 1 80  0  0  1  0  0  0  0  0]\n",
      " [ 0 82  0  0  1  1  2  0  0  0]]\n",
      "accuracy =  0.11542857142857142\n",
      "f1 =  0.05404809198750919\n"
     ]
    }
   ],
   "source": [
    "#performance measures\n",
    "confusionMat = confusion_matrix(y_test, y_pred2)\n",
    "confusionMat_df = pd.DataFrame(confusionMat)\n",
    "print(\"confusion matrix: \\n \", confusionMat)\n",
    "\n",
    "accuracy = accuracy_score(y_test, y_pred)\n",
    "f1 = f1_score(y_test, y_pred, average='weighted')\n",
    "\n",
    "print(\"accuracy = \", accuracy)\n",
    "print(\"f1 = \", f1)"
   ]
  },
  {
   "cell_type": "code",
   "execution_count": 101,
   "id": "6be19afd",
   "metadata": {},
   "outputs": [
    {
     "name": "stdout",
     "output_type": "stream",
     "text": [
      "              precision    recall  f1-score   support\n",
      "\n",
      "           0       0.17      0.04      0.06        83\n",
      "           1       0.12      0.75      0.21       103\n",
      "           2       0.25      0.02      0.03       107\n",
      "           3       0.00      0.00      0.00        90\n",
      "           4       0.00      0.00      0.00        78\n",
      "           5       0.00      0.00      0.00        83\n",
      "           6       0.06      0.01      0.02        86\n",
      "           7       0.15      0.03      0.04        77\n",
      "           8       0.08      0.01      0.02        82\n",
      "           9       0.09      0.17      0.11        86\n",
      "\n",
      "    accuracy                           0.12       875\n",
      "   macro avg       0.09      0.10      0.05       875\n",
      "weighted avg       0.10      0.12      0.05       875\n",
      "\n",
      "                                                                                         0\n",
      "cv                                                                                       5\n",
      "error_score                                                                            NaN\n",
      "estimator__memory                                                                     None\n",
      "estimator__steps                         [(scaler, StandardScaler()), (SVM, SVC(kernel=...\n",
      "estimator__verbose                                                                   False\n",
      "estimator__scaler                                                         StandardScaler()\n",
      "estimator__SVM                                                          SVC(kernel='poly')\n",
      "estimator__scaler__copy                                                               True\n",
      "estimator__scaler__with_mean                                                          True\n",
      "estimator__scaler__with_std                                                           True\n",
      "estimator__SVM__C                                                                      1.0\n",
      "estimator__SVM__break_ties                                                           False\n",
      "estimator__SVM__cache_size                                                             200\n",
      "estimator__SVM__class_weight                                                          None\n",
      "estimator__SVM__coef0                                                                  0.0\n",
      "estimator__SVM__decision_function_shape                                                ovr\n",
      "estimator__SVM__degree                                                                   3\n",
      "estimator__SVM__gamma                                                                scale\n",
      "estimator__SVM__kernel                                                                poly\n",
      "estimator__SVM__max_iter                                                                -1\n",
      "estimator__SVM__probability                                                          False\n",
      "estimator__SVM__random_state                                                          None\n",
      "estimator__SVM__shrinking                                                             True\n",
      "estimator__SVM__tol                                                                  0.001\n",
      "estimator__SVM__verbose                                                              False\n",
      "estimator                                           (StandardScaler(), SVC(kernel='poly'))\n",
      "n_jobs                                                                                None\n",
      "param_grid                                       {'SVM__C': [0.001], 'SVM__gamma': [0.01]}\n",
      "pre_dispatch                                                                      2*n_jobs\n",
      "refit                                                                                 True\n",
      "return_train_score                                                                   False\n",
      "scoring                                                                               None\n",
      "verbose                                                                                  0\n"
     ]
    }
   ],
   "source": [
    "#performance measures\n",
    "print(classification_report(y_test, y_pred, target_names=['0', '1', '2', '3','4','5','6','7','8','9']))\n",
    "\n",
    "classification_report_df = classification_report(y_test, y_pred, target_names=['0', '1', '2', '3','4','5','6','7','8','9'])\n",
    "\n",
    "parameters = pd.DataFrame.from_dict(grid1.get_params(), orient = 'index')\n",
    "print(parameters)"
   ]
  },
  {
   "cell_type": "code",
   "execution_count": 102,
   "id": "f542fc13",
   "metadata": {},
   "outputs": [],
   "source": [
    "outname = 'confusionMat_SVM.csv'\n",
    "outname2 = 'parameters_SVM.csv'\n",
    "\n",
    "\n",
    "outdir = 'Exports'\n",
    "\n",
    "if not os.path.exists(outdir):\n",
    "    os.mkdir(outdir)\n",
    "    \n",
    "\n",
    "confusionMat_df.to_csv(f\"{outdir}/{outname}\")\n",
    "parameters.to_csv(f\"{outdir}/{outname2}\")"
   ]
  }
 ],
 "metadata": {
  "kernelspec": {
   "display_name": "Python 3 (ipykernel)",
   "language": "python",
   "name": "python3"
  },
  "language_info": {
   "codemirror_mode": {
    "name": "ipython",
    "version": 3
   },
   "file_extension": ".py",
   "mimetype": "text/x-python",
   "name": "python",
   "nbconvert_exporter": "python",
   "pygments_lexer": "ipython3",
   "version": "3.8.13"
  }
 },
 "nbformat": 4,
 "nbformat_minor": 5
}
